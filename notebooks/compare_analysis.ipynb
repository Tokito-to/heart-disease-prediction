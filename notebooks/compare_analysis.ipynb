{
 "cells": [
  {
   "cell_type": "code",
   "execution_count": 1,
   "id": "24b177b8-af1e-403e-9597-21ca01c62163",
   "metadata": {},
   "outputs": [],
   "source": [
    "import numpy as np\n",
    "import pandas as pd\n",
    "import matplotlib.pyplot as plt\n",
    "\n",
    "# Inline Plots in Jupyter\n",
    "%matplotlib inline"
   ]
  },
  {
   "cell_type": "code",
   "execution_count": 2,
   "id": "4e13003c-c825-45c8-8d11-283d8b37c532",
   "metadata": {},
   "outputs": [
    {
     "data": {
      "text/plain": [
       "(1510, 14)"
      ]
     },
     "execution_count": 2,
     "metadata": {},
     "output_type": "execute_result"
    }
   ],
   "source": [
    "data = pd.read_csv('../heart_dataset.csv')\n",
    "data.shape"
   ]
  },
  {
   "cell_type": "code",
   "execution_count": 3,
   "id": "776cc8fe-e5c1-45f3-a95d-f2d02806f554",
   "metadata": {},
   "outputs": [
    {
     "data": {
      "text/plain": [
       "target\n",
       "1    797\n",
       "0    713\n",
       "Name: count, dtype: int64"
      ]
     },
     "execution_count": 3,
     "metadata": {},
     "output_type": "execute_result"
    }
   ],
   "source": [
    "data.target.value_counts()"
   ]
  },
  {
   "cell_type": "code",
   "execution_count": 4,
   "id": "b02e9927-c3f5-46c0-8bcd-ebb73135e3a1",
   "metadata": {},
   "outputs": [
    {
     "name": "stdout",
     "output_type": "stream",
     "text": [
      "<class 'pandas.core.frame.DataFrame'>\n",
      "RangeIndex: 1510 entries, 0 to 1509\n",
      "Data columns (total 14 columns):\n",
      " #   Column    Non-Null Count  Dtype  \n",
      "---  ------    --------------  -----  \n",
      " 0   age       1510 non-null   int64  \n",
      " 1   sex       1510 non-null   int64  \n",
      " 2   cp        1510 non-null   int64  \n",
      " 3   trestbps  1510 non-null   int64  \n",
      " 4   chol      1510 non-null   int64  \n",
      " 5   fbs       1510 non-null   int64  \n",
      " 6   restecg   1510 non-null   int64  \n",
      " 7   thalach   1510 non-null   int64  \n",
      " 8   exang     1510 non-null   int64  \n",
      " 9   oldpeak   1510 non-null   float64\n",
      " 10  slope     1510 non-null   int64  \n",
      " 11  ca        1510 non-null   int64  \n",
      " 12  thal      1510 non-null   int64  \n",
      " 13  target    1510 non-null   int64  \n",
      "dtypes: float64(1), int64(13)\n",
      "memory usage: 165.3 KB\n"
     ]
    }
   ],
   "source": [
    "data.info()"
   ]
  },
  {
   "cell_type": "code",
   "execution_count": 5,
   "id": "395118bd-6d56-40f2-b375-0d71759be094",
   "metadata": {},
   "outputs": [
    {
     "data": {
      "text/plain": [
       "age         0\n",
       "sex         0\n",
       "cp          0\n",
       "trestbps    0\n",
       "chol        0\n",
       "fbs         0\n",
       "restecg     0\n",
       "thalach     0\n",
       "exang       0\n",
       "oldpeak     0\n",
       "slope       0\n",
       "ca          0\n",
       "thal        0\n",
       "target      0\n",
       "dtype: int64"
      ]
     },
     "execution_count": 5,
     "metadata": {},
     "output_type": "execute_result"
    }
   ],
   "source": [
    "data.isnull().sum()"
   ]
  },
  {
   "cell_type": "code",
   "execution_count": 6,
   "id": "8e095404-d1e0-4a5f-af5a-4325237c50ef",
   "metadata": {},
   "outputs": [],
   "source": [
    "X = data.iloc[:,:13].values\n",
    "y = data[\"target\"].values"
   ]
  },
  {
   "cell_type": "code",
   "execution_count": 7,
   "id": "0e01f363-4c92-4e56-8b4f-9c9579cf9cc4",
   "metadata": {},
   "outputs": [
    {
     "name": "stdout",
     "output_type": "stream",
     "text": [
      "After Under-Sampling: \n",
      "Samples in class 0:  797\n",
      "Samples in class 1:  797\n"
     ]
    }
   ],
   "source": [
    "from imblearn.over_sampling import SMOTE\n",
    "X, y = SMOTE(random_state=42).fit_resample(X, y)\n",
    "\n",
    "# Printing number of samples in each class after Under-Sampling\n",
    "t = [(d) for d in y if d == 0]\n",
    "s = [(d) for d in y if d == 1]\n",
    "print('After Under-Sampling: ')\n",
    "print('Samples in class 0: ', len(t))\n",
    "print('Samples in class 1: ', len(s))"
   ]
  },
  {
   "cell_type": "code",
   "execution_count": 8,
   "id": "7b73f20c-7cb9-4104-afe5-1dedc93943dd",
   "metadata": {},
   "outputs": [],
   "source": [
    "from sklearn.model_selection import train_test_split\n",
    "X_train,X_test,y_train,y_test=train_test_split(X,y,test_size=0.30,random_state=42)"
   ]
  },
  {
   "cell_type": "code",
   "execution_count": 9,
   "id": "09ddb3a2-18cf-49a4-8365-d992e01401b6",
   "metadata": {},
   "outputs": [],
   "source": [
    "from sklearn.preprocessing import StandardScaler\n",
    "\n",
    "sc = StandardScaler()\n",
    "\n",
    "X_train = sc.fit_transform(X_train)\n",
    "X_test = sc.transform(X_test)"
   ]
  },
  {
   "cell_type": "code",
   "execution_count": 10,
   "id": "ed1ef613-5e7b-40c5-b8e9-109577b7e596",
   "metadata": {},
   "outputs": [],
   "source": [
    "from sklearn.metrics import accuracy_score"
   ]
  },
  {
   "cell_type": "code",
   "execution_count": 11,
   "id": "a40b522f-a7b8-430b-89cd-9ec52c4e61f8",
   "metadata": {},
   "outputs": [],
   "source": [
    "from sklearn.linear_model import LogisticRegression\n",
    "\n",
    "# logistic regression model\n",
    "logreg = LogisticRegression(max_iter=1000)\n",
    "logreg.fit(X_train, y_train)\n",
    "\n",
    "# Evaluate the model\n",
    "y_pred_logreg = logreg.predict(X_test)\n",
    "logreg_accuracy = accuracy_score(y_test, y_pred_logreg)"
   ]
  },
  {
   "cell_type": "code",
   "execution_count": 12,
   "id": "940c9709-86b7-4c17-a789-151c97cc7c39",
   "metadata": {},
   "outputs": [],
   "source": [
    "from sklearn.tree import DecisionTreeClassifier\n",
    "\n",
    "# decision tree classifier\n",
    "dt = DecisionTreeClassifier(random_state=42)\n",
    "dt.fit(X_train, y_train)\n",
    "\n",
    "# Evaluate the model\n",
    "y_pred_dt = dt.predict(X_test)\n",
    "dt_accuracy = accuracy_score(y_test, y_pred_dt)"
   ]
  },
  {
   "cell_type": "code",
   "execution_count": 13,
   "id": "074e3b41-4ebc-4af7-ab26-b6f054e6c3bb",
   "metadata": {},
   "outputs": [],
   "source": [
    "from sklearn.ensemble import RandomForestClassifier\n",
    "\n",
    "# random forest classifier\n",
    "rf = RandomForestClassifier(n_estimators=100, random_state=42)\n",
    "rf.fit(X_train, y_train)\n",
    "\n",
    "# Evaluate the model\n",
    "y_pred_rf = rf.predict(X_test)\n",
    "rf_accuracy = accuracy_score(y_test, y_pred_rf)"
   ]
  },
  {
   "cell_type": "code",
   "execution_count": 14,
   "id": "dc4005da-9b82-49bb-88d7-58840d6453b6",
   "metadata": {},
   "outputs": [],
   "source": [
    "from sklearn.svm import SVC\n",
    "\n",
    "# Support Vector Machines (SVM) classifier\n",
    "svm = SVC(random_state=42)\n",
    "svm.fit(X_train, y_train)\n",
    "\n",
    "# Evaluate the model\n",
    "y_pred_svm = svm.predict(X_test)\n",
    "svm_accuracy = accuracy_score(y_test, y_pred_svm)"
   ]
  },
  {
   "cell_type": "code",
   "execution_count": 15,
   "id": "3565b749-0aee-4933-abd1-bb1e149470d6",
   "metadata": {},
   "outputs": [],
   "source": [
    "from sklearn.ensemble import GradientBoostingClassifier\n",
    "\n",
    "# gradient boosting classifier\n",
    "gb = GradientBoostingClassifier(n_estimators=100, random_state=42)\n",
    "\n",
    "gb.fit(X_train, y_train)\n",
    "\n",
    "# Evaluate the model\n",
    "y_pred_gb = gb.predict(X_test)\n",
    "gb_accuracy = accuracy_score(y_test, y_pred_gb)"
   ]
  },
  {
   "cell_type": "code",
   "execution_count": 16,
   "id": "16382457-2464-4dd9-a4dc-7c9ec3792594",
   "metadata": {},
   "outputs": [],
   "source": [
    "from sklearn.neighbors import KNeighborsClassifier\n",
    "\n",
    "# K-NN classifier\n",
    "knn = KNeighborsClassifier(n_neighbors=5)\n",
    "knn.fit(X_train, y_train)\n",
    "\n",
    "# Evaluate the model\n",
    "y_pred_knn = knn.predict(X_test)\n",
    "knn_accuracy = accuracy_score(y_test, y_pred_knn)"
   ]
  },
  {
   "cell_type": "code",
   "execution_count": 17,
   "id": "bc6f6636-b245-472f-a87b-162d8fe80c1f",
   "metadata": {},
   "outputs": [],
   "source": [
    "import xgboost as xgb\n",
    "\n",
    "# XGBoost classifier\n",
    "xgb_clf = xgb.XGBClassifier(objective='binary:logistic', max_depth=6, learning_rate=0.1, n_estimators=100, n_jobs=-1)\n",
    "xgb_clf.fit(X_train, y_train)\n",
    "\n",
    "# Evaluate the model\n",
    "y_pred_xgb = xgb_clf.predict(X_test)\n",
    "xgb_accuracy = accuracy_score(y_test, y_pred_xgb)"
   ]
  },
  {
   "cell_type": "code",
   "execution_count": 18,
   "id": "3d71c514-ce7d-4c43-860f-600269c63234",
   "metadata": {},
   "outputs": [
    {
     "name": "stdout",
     "output_type": "stream",
     "text": [
      "Logistic Regression Accuracy: 74.95%\n",
      "Decision Tree Classifier Accuracy: 82.67%\n",
      "Random Forest Classifier Accuracy: 88.1%\n",
      "Support Vector Machines (SVM) Accuracy: 81.21%\n",
      "Gradient Boosting Classifier Accuracy: 84.13%\n",
      "K-Neighbors Classifier Accuracy: 79.75%\n",
      "XGBoost Classifier Accuracy: 87.06%\n"
     ]
    }
   ],
   "source": [
    "print(f\"Logistic Regression Accuracy: {round(logreg_accuracy * 100, 2)}%\")\n",
    "print(f\"Decision Tree Classifier Accuracy: {round(dt_accuracy * 100, 2)}%\")\n",
    "print(f\"Random Forest Classifier Accuracy: {round(rf_accuracy * 100, 2)}%\")\n",
    "print(f\"Support Vector Machines (SVM) Accuracy: {round(svm_accuracy * 100, 2)}%\")\n",
    "print(f\"Gradient Boosting Classifier Accuracy: {round(gb_accuracy * 100, 2)}%\")\n",
    "print(f\"K-Neighbors Classifier Accuracy: {round(knn_accuracy * 100, 2)}%\")\n",
    "print(f\"XGBoost Classifier Accuracy: {round(xgb_accuracy * 100, 2)}%\")"
   ]
  },
  {
   "cell_type": "code",
   "execution_count": 19,
   "id": "b05b28a7-ba41-492c-9297-fd8fa029b86d",
   "metadata": {},
   "outputs": [
    {
     "data": {
      "image/png": "[encoded data removed]",
      "text/plain": [
       "<Figure size 1500x1200 with 9 Axes>"
      ]
     },
     "metadata": {},
     "output_type": "display_data"
    }
   ],
   "source": [
    "from sklearn.metrics import confusion_matrix, ConfusionMatrixDisplay\n",
    "\n",
    "def plot_confusion_matrix(ax, model_name, y_test, y_pred):\n",
    "    model_pred = (y_pred > 0.5).astype(int).flatten()\n",
    "    cm = confusion_matrix(y_test, model_pred)\n",
    "    disp = ConfusionMatrixDisplay(confusion_matrix=cm)\n",
    "    disp.plot(ax=ax, cmap='magma', colorbar=False)\n",
    "    ax.set_title(model_name)\n",
    "\n",
    "model_names = [\n",
    "    'Logistic Regression', 'Decision Tree', 'Random Forest',\n",
    "    'Support Vector Machines', 'Gradient Boosting', 'K-Neighbors', 'XGBoost'\n",
    "]\n",
    "\n",
    "y_pred_list = [\n",
    "    y_pred_logreg, y_pred_dt, y_pred_rf,\n",
    "    y_pred_svm, y_pred_gb, y_pred_knn, y_pred_xgb\n",
    "]\n",
    "\n",
    "fig, axes = plt.subplots(3, 3, figsize=(5 * 3, 4 * 3))\n",
    "axes = axes.flatten()\n",
    "\n",
    "for i, (model_name, y_pred) in enumerate(zip(model_names, y_pred_list)):\n",
    "    plot_confusion_matrix(axes[i], model_name, y_test, y_pred)\n",
    "\n",
    "for j in range(len(model_names), len(axes)):\n",
    "    axes[j].axis('off')\n",
    "\n",
    "plt.tight_layout()\n",
    "plt.show()\n"
   ]
  },
  {
   "cell_type": "code",
   "execution_count": 20,
   "id": "a7442a1b-9aea-4911-81da-e1e2446fcfcd",
   "metadata": {},
   "outputs": [
    {
     "name": "stdout",
     "output_type": "stream",
     "text": [
      "Classification Reports:\n",
      "Logistic Regression:\n",
      "              precision    recall  f1-score   support\n",
      "\n",
      "           0       0.74      0.80      0.77       250\n",
      "           1       0.76      0.69      0.73       229\n",
      "\n",
      "    accuracy                           0.75       479\n",
      "   macro avg       0.75      0.75      0.75       479\n",
      "weighted avg       0.75      0.75      0.75       479\n",
      "\n",
      "Decision Tree:\n",
      "              precision    recall  f1-score   support\n",
      "\n",
      "           0       0.84      0.82      0.83       250\n",
      "           1       0.81      0.83      0.82       229\n",
      "\n",
      "    accuracy                           0.83       479\n",
      "   macro avg       0.83      0.83      0.83       479\n",
      "weighted avg       0.83      0.83      0.83       479\n",
      "\n",
      "Random Forest:\n",
      "              precision    recall  f1-score   support\n",
      "\n",
      "           0       0.86      0.92      0.89       250\n",
      "           1       0.90      0.84      0.87       229\n",
      "\n",
      "    accuracy                           0.88       479\n",
      "   macro avg       0.88      0.88      0.88       479\n",
      "weighted avg       0.88      0.88      0.88       479\n",
      "\n",
      "SVM:\n",
      "              precision    recall  f1-score   support\n",
      "\n",
      "           0       0.80      0.86      0.83       250\n",
      "           1       0.83      0.76      0.79       229\n",
      "\n",
      "    accuracy                           0.81       479\n",
      "   macro avg       0.81      0.81      0.81       479\n",
      "weighted avg       0.81      0.81      0.81       479\n",
      "\n",
      "Gradient Boosting:\n",
      "              precision    recall  f1-score   support\n",
      "\n",
      "           0       0.83      0.88      0.85       250\n",
      "           1       0.86      0.80      0.83       229\n",
      "\n",
      "    accuracy                           0.84       479\n",
      "   macro avg       0.84      0.84      0.84       479\n",
      "weighted avg       0.84      0.84      0.84       479\n",
      "\n",
      "KNN:\n",
      "              precision    recall  f1-score   support\n",
      "\n",
      "           0       0.79      0.83      0.81       250\n",
      "           1       0.80      0.76      0.78       229\n",
      "\n",
      "    accuracy                           0.80       479\n",
      "   macro avg       0.80      0.80      0.80       479\n",
      "weighted avg       0.80      0.80      0.80       479\n",
      "\n",
      "XGBoost:\n",
      "              precision    recall  f1-score   support\n",
      "\n",
      "           0       0.86      0.89      0.88       250\n",
      "           1       0.88      0.85      0.86       229\n",
      "\n",
      "    accuracy                           0.87       479\n",
      "   macro avg       0.87      0.87      0.87       479\n",
      "weighted avg       0.87      0.87      0.87       479\n",
      "\n"
     ]
    }
   ],
   "source": [
    "from sklearn.metrics import classification_report\n",
    "\n",
    "print(\"Classification Reports:\")\n",
    "print(f\"Logistic Regression:\\n{classification_report(y_test, y_pred_logreg)}\")\n",
    "print(f\"Decision Tree:\\n{classification_report(y_test, y_pred_dt)}\")\n",
    "print(f\"Random Forest:\\n{classification_report(y_test, y_pred_rf)}\")\n",
    "print(f\"SVM:\\n{classification_report(y_test, y_pred_svm)}\")\n",
    "print(f\"Gradient Boosting:\\n{classification_report(y_test, y_pred_gb)}\")\n",
    "print(f\"KNN:\\n{classification_report(y_test, y_pred_knn)}\")\n",
    "print(f\"XGBoost:\\n{classification_report(y_test, y_pred_xgb)}\")"
   ]
  },
  {
   "cell_type": "code",
   "execution_count": null,
   "id": "737d6d84-7f91-4b5e-825b-d73bb5234a5b",
   "metadata": {},
   "outputs": [],
   "source": []
  }
 ],
 "metadata": {
  "kernelspec": {
   "display_name": "Python 3 (ipykernel)",
   "language": "python",
   "name": "python3"
  },
  "language_info": {
   "codemirror_mode": {
    "name": "ipython",
    "version": 3
   },
   "file_extension": ".py",
   "mimetype": "text/x-python",
   "name": "python",
   "nbconvert_exporter": "python",
   "pygments_lexer": "ipython3",
   "version": "3.13.5"
  }
 },
 "nbformat": 4,
 "nbformat_minor": 5
}
